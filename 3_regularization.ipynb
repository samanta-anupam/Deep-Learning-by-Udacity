{
 "cells": [
  {
   "cell_type": "markdown",
   "metadata": {
    "colab_type": "text",
    "id": "kR-4eNdK6lYS"
   },
   "source": [
    "Deep Learning\n",
    "=============\n",
    "\n",
    "Assignment 3\n",
    "------------\n",
    "\n",
    "Previously in `2_fullyconnected.ipynb`, you trained a logistic regression and a neural network model.\n",
    "\n",
    "The goal of this assignment is to explore regularization techniques."
   ]
  },
  {
   "cell_type": "code",
   "execution_count": 90,
   "metadata": {
    "cellView": "both",
    "colab": {
     "autoexec": {
      "startup": false,
      "wait_interval": 0.0
     }
    },
    "colab_type": "code",
    "collapsed": true,
    "id": "JLpLa8Jt7Vu4"
   },
   "outputs": [],
   "source": [
    "# These are all the modules we'll be using later. Make sure you can import them\n",
    "# before proceeding further.\n",
    "from __future__ import print_function\n",
    "import numpy as np\n",
    "import tensorflow as tf\n",
    "from six.moves import cPickle as pickle\n",
    "import matplotlib.pyplot as plt\n"
   ]
  },
  {
   "cell_type": "markdown",
   "metadata": {
    "colab_type": "text",
    "id": "1HrCK6e17WzV"
   },
   "source": [
    "First reload the data we generated in `1_notmnist.ipynb`."
   ]
  },
  {
   "cell_type": "code",
   "execution_count": 91,
   "metadata": {
    "cellView": "both",
    "colab": {
     "autoexec": {
      "startup": false,
      "wait_interval": 0.0
     },
     "output_extras": [
      {
       "item_id": 1.0
      }
     ]
    },
    "colab_type": "code",
    "executionInfo": {
     "elapsed": 11777.0,
     "status": "ok",
     "timestamp": 1.449849322348E12,
     "user": {
      "color": "",
      "displayName": "",
      "isAnonymous": false,
      "isMe": true,
      "permissionId": "",
      "photoUrl": "",
      "sessionId": "0",
      "userId": ""
     },
     "user_tz": 480.0
    },
    "id": "y3-cj1bpmuxc",
    "outputId": "e03576f1-ebbe-4838-c388-f1777bcc9873"
   },
   "outputs": [
    {
     "name": "stdout",
     "output_type": "stream",
     "text": [
      "Training set (200000, 28, 28) (200000,)\n",
      "Validation set (10000, 28, 28) (10000,)\n",
      "Test set (10000, 28, 28) (10000,)\n"
     ]
    }
   ],
   "source": [
    "pickle_file = 'notMNIST.pickle'\n",
    "\n",
    "with open(pickle_file, 'rb') as f:\n",
    "    save = pickle.load(f)\n",
    "    train_dataset = save['train_dataset']\n",
    "    train_labels = save['train_labels']\n",
    "    valid_dataset = save['valid_dataset']\n",
    "    valid_labels = save['valid_labels']\n",
    "    test_dataset = save['test_dataset']\n",
    "    test_labels = save['test_labels']\n",
    "    del save  # hint to help gc free up memory\n",
    "    print('Training set', train_dataset.shape, train_labels.shape)\n",
    "    print('Validation set', valid_dataset.shape, valid_labels.shape)\n",
    "    print('Test set', test_dataset.shape, test_labels.shape)\n"
   ]
  },
  {
   "cell_type": "markdown",
   "metadata": {
    "colab_type": "text",
    "id": "L7aHrm6nGDMB"
   },
   "source": [
    "Reformat into a shape that's more adapted to the models we're going to train:\n",
    "- data as a flat matrix,\n",
    "- labels as float 1-hot encodings."
   ]
  },
  {
   "cell_type": "code",
   "execution_count": 92,
   "metadata": {
    "cellView": "both",
    "colab": {
     "autoexec": {
      "startup": false,
      "wait_interval": 0.0
     },
     "output_extras": [
      {
       "item_id": 1.0
      }
     ]
    },
    "colab_type": "code",
    "executionInfo": {
     "elapsed": 11728.0,
     "status": "ok",
     "timestamp": 1.449849322356E12,
     "user": {
      "color": "",
      "displayName": "",
      "isAnonymous": false,
      "isMe": true,
      "permissionId": "",
      "photoUrl": "",
      "sessionId": "0",
      "userId": ""
     },
     "user_tz": 480.0
    },
    "id": "IRSyYiIIGIzS",
    "outputId": "3f8996ee-3574-4f44-c953-5c8a04636582"
   },
   "outputs": [
    {
     "name": "stdout",
     "output_type": "stream",
     "text": [
      "Training set (200000, 784) (200000, 10)\n",
      "Validation set (10000, 784) (10000, 10)\n",
      "Test set (10000, 784) (10000, 10)\n"
     ]
    }
   ],
   "source": [
    "image_size = 28\n",
    "num_labels = 10\n",
    "\n",
    "def reformat(dataset, labels):\n",
    "  dataset = dataset.reshape((-1, image_size * image_size)).astype(np.float32)\n",
    "  # Map 1 to [0.0, 1.0, 0.0 ...], 2 to [0.0, 0.0, 1.0 ...]\n",
    "  labels = (np.arange(num_labels) == labels[:,None]).astype(np.float32)\n",
    "  return dataset, labels\n",
    "train_dataset, train_labels = reformat(train_dataset, train_labels)\n",
    "valid_dataset, valid_labels = reformat(valid_dataset, valid_labels)\n",
    "test_dataset, test_labels = reformat(test_dataset, test_labels)\n",
    "print('Training set', train_dataset.shape, train_labels.shape)\n",
    "print('Validation set', valid_dataset.shape, valid_labels.shape)\n",
    "print('Test set', test_dataset.shape, test_labels.shape)"
   ]
  },
  {
   "cell_type": "code",
   "execution_count": 93,
   "metadata": {
    "cellView": "both",
    "colab": {
     "autoexec": {
      "startup": false,
      "wait_interval": 0.0
     }
    },
    "colab_type": "code",
    "collapsed": true,
    "id": "RajPLaL_ZW6w"
   },
   "outputs": [],
   "source": [
    "def accuracy(predictions, labels):\n",
    "    return (100.0 * np.sum(np.argmax(predictions, 1) == np.argmax(labels, 1))\n",
    "            / predictions.shape[0])\n"
   ]
  },
  {
   "cell_type": "markdown",
   "metadata": {
    "colab_type": "text",
    "id": "sgLbUAQ1CW-1"
   },
   "source": [
    "---\n",
    "Problem 1\n",
    "---------\n",
    "\n",
    "Introduce and tune L2 regularization for both logistic and neural network models. Remember that L2 amounts to adding a penalty on the norm of the weights to the loss. In TensorFlow, you can compute the L2 loss for a tensor `t` using `nn.l2_loss(t)`. The right amount of regularization should improve your validation / test accuracy.\n",
    "\n",
    "---"
   ]
  },
  {
   "cell_type": "code",
   "execution_count": 17,
   "metadata": {},
   "outputs": [],
   "source": [
    "batch_size = 128\n",
    "graph = tf.Graph()\n",
    "with graph.as_default():\n",
    "    # Input Data\n",
    "    tf_train_dataset = tf.placeholder(tf.float32, shape=(batch_size, image_size * image_size))\n",
    "    tf_train_labels = tf.placeholder(tf.float32, shape=(batch_size, num_labels))\n",
    "    tf_valid_dataset = tf.constant(valid_dataset)\n",
    "    tf_test_dataset = tf.constant(test_dataset)\n",
    "    beta_reg = tf.placeholder(tf.float32)\n",
    "\n",
    "    # Variables.\n",
    "    weights = tf.Variable(tf.truncated_normal([image_size * image_size, num_labels]))\n",
    "    biases = tf.Variable(tf.zeros(num_labels))\n",
    "\n",
    "    # Training Computation \n",
    "    logits = tf.matmul(tf_train_dataset, weights) + biases\n",
    "    loss = tf.reduce_mean(tf.nn.softmax_cross_entropy_with_logits(logits=logits, labels=tf_train_labels)) \\\n",
    "           + beta_reg * tf.nn.l2_loss(weights)\n",
    "\n",
    "    # Optimizer \n",
    "    optimizer = tf.train.GradientDescentOptimizer(0.5).minimize(loss)\n",
    "\n",
    "    # Predictions\n",
    "    train_prediction = tf.nn.softmax(logits)\n",
    "    valid_prediction = tf.nn.softmax(tf.matmul(tf_valid_dataset, weights) + biases)\n",
    "    test_prediction = tf.nn.softmax(tf.matmul(tf_test_dataset, weights) + biases)\n"
   ]
  },
  {
   "cell_type": "code",
   "execution_count": 26,
   "metadata": {},
   "outputs": [],
   "source": [
    "num_steps = 3001\n",
    "\n",
    "regul_val = [pow(10, i) for i in np.arange(-4, -2, 0.1)]\n",
    "accuracy_val = []\n",
    "for regul in regul_val:\n",
    "    with tf.Session(graph=graph) as session:\n",
    "        tf.global_variables_initializer().run()\n",
    "        #         print('Initialised')\n",
    "        for step in range(num_steps):\n",
    "            offset = (step * batch_size) % \\\n",
    "                     (train_labels.shape[0] - batch_size)\n",
    "\n",
    "            batch_data = train_dataset[offset:offset + batch_size, :]\n",
    "            batch_labels = train_labels[offset:offset + batch_size, :]\n",
    "\n",
    "            feed_dict = {tf_train_dataset: batch_data, \\\n",
    "                         tf_train_labels: batch_labels, beta_reg: regul}\n",
    "            _, l, predictions = session.run([optimizer, loss, \\\n",
    "                                             train_prediction], feed_dict=feed_dict)\n",
    "        #             if step%500 == 0:\n",
    "        #                 print(\"Minibatch loss at step %d: %f\" % (step, l))\n",
    "        #                 print(\"Minibatch accuracy: %.1f%% \" % accuracy(predictions, batch_labels))\n",
    "        #                 print(\"Validation accuracy: %.1f%% \" % accuracy(valid_prediction.eval(), valid_labels))\n",
    "\n",
    "        accuracy_val.append(accuracy(test_prediction.eval(), test_labels))\n"
   ]
  },
  {
   "cell_type": "code",
   "execution_count": 27,
   "metadata": {
    "scrolled": true
   },
   "outputs": [
    {
     "data": {
      "image/png": "[encoded data removed]",
      "text/plain": [
       "<matplotlib.figure.Figure at 0x12c89a3c8>"
      ]
     },
     "metadata": {},
     "output_type": "display_data"
    }
   ],
   "source": [
    "plt.semilogx(regul_val, accuracy_val)\n",
    "plt.grid(True)\n",
    "plt.title('Test accuracy by regularization (logistic)')\n",
    "plt.show()"
   ]
  },
  {
   "cell_type": "code",
   "execution_count": 39,
   "metadata": {},
   "outputs": [],
   "source": [
    "batch_size = 128\n",
    "num_hidden_nodes = 1024\n",
    "\n",
    "graph = tf.Graph()\n",
    "with graph.as_default():\n",
    "    # Input\n",
    "    tf_train_dataset = tf.placeholder(tf.float32, shape=\n",
    "    (batch_size, image_size * image_size))\n",
    "    tf_train_labels = tf.placeholder(tf.float32, shape=\n",
    "    (batch_size, num_labels))\n",
    "    tf_valid_dataset = tf.constant(valid_dataset)\n",
    "    tf_test_dataset = tf.constant(test_dataset)\n",
    "\n",
    "    # Weights\n",
    "    weights1 = tf.Variable(tf.truncated_normal([image_size * image_size, num_hidden_nodes]))\n",
    "    biases1 = tf.Variable(tf.zeros([num_hidden_nodes]))\n",
    "    weights2 = tf.Variable(tf.truncated_normal([num_hidden_nodes, num_labels]))\n",
    "    biases2 = tf.Variable(tf.zeros([num_labels]))\n",
    "    beta1 = tf.placeholder(tf.float32)\n",
    "    beta2 = tf.placeholder(tf.float32)\n",
    "\n",
    "    # Training Computation\n",
    "    lay1_train = tf.nn.relu(tf.matmul(tf_train_dataset, weights1) + biases1)\n",
    "    logits = tf.matmul(lay1_train, weights2) + biases2\n",
    "    loss = tf.reduce_mean(tf.nn.softmax_cross_entropy_with_logits(logits=logits, labels=tf_train_labels)) \\\n",
    "           + beta1 * tf.nn.l2_loss(weights1) + beta2 * tf.nn.l2_loss(weights2)\n",
    "\n",
    "    # Optimizer\n",
    "    optimizer = tf.train.GradientDescentOptimizer(0.5).minimize(loss)\n",
    "\n",
    "    # Predictions\n",
    "    train_prediction = tf.nn.softmax(logits)\n",
    "    lay1_valid = tf.nn.relu(tf.matmul(tf_valid_dataset, weights1) + biases1)\n",
    "    valid_prediction = tf.nn.softmax(tf.matmul(lay1_valid, weights2) + biases2)\n",
    "    lay1_test = tf.nn.relu(tf.matmul(tf_test_dataset, weights1) + biases1)\n",
    "    test_prediction = tf.nn.softmax(tf.matmul(lay1_test, weights2) + biases2)\n"
   ]
  },
  {
   "cell_type": "code",
   "execution_count": 37,
   "metadata": {
    "collapsed": true
   },
   "outputs": [],
   "source": [
    "num_steps = 3001\n",
    "\n",
    "regul_val = [pow(10, i) for i in np.arange(-4, -2, 0.1)]\n",
    "accuracy_val = []\n",
    "for regul in regul_val:\n",
    "    with tf.Session(graph=graph) as session:\n",
    "        tf.global_variables_initializer().run()\n",
    "#         print('Initialised')\n",
    "        for step in range(num_steps):\n",
    "            offset = (step * batch_size) % \\\n",
    "                (train_labels.shape[0] - batch_size)\n",
    "\n",
    "            batch_data = train_dataset[offset:offset+batch_size, :]\n",
    "            batch_labels = train_labels[offset:offset+batch_size, :]\n",
    "\n",
    "            feed_dict = {tf_train_dataset:batch_data, \\\n",
    "                         tf_train_labels:batch_labels, beta1 : regul, beta2 : regul}\n",
    "            _, l, predictions = session.run([optimizer, loss, \\\n",
    "                                             train_prediction], feed_dict=feed_dict)\n",
    "#             if step%500 == 0:\n",
    "#                 print(\"Minibatch loss at step %d: %f\" % (step, l))\n",
    "#                 print(\"Minibatch accuracy: %.1f%% \" % accuracy(predictions, batch_labels))\n",
    "#                 print(\"Validation accuracy: %.1f%% \" % accuracy(valid_prediction.eval(), valid_labels))\n",
    "\n",
    "        accuracy_val.append(accuracy(test_prediction.eval(), test_labels))"
   ]
  },
  {
   "cell_type": "code",
   "execution_count": 38,
   "metadata": {},
   "outputs": [
    {
     "data": {
      "image/png": "[encoded data removed]",
      "text/plain": [
       "<matplotlib.figure.Figure at 0x12cae1668>"
      ]
     },
     "metadata": {},
     "output_type": "display_data"
    }
   ],
   "source": [
    "plt.semilogx(regul_val, accuracy_val)\n",
    "plt.grid(True)\n",
    "plt.title('Test accuracy by regularization (logistic)')\n",
    "plt.show()"
   ]
  },
  {
   "cell_type": "markdown",
   "metadata": {
    "colab_type": "text",
    "id": "na8xX2yHZzNF"
   },
   "source": [
    "---\n",
    "Problem 2\n",
    "---------\n",
    "Let's demonstrate an extreme case of overfitting. Restrict your training data to just a few batches. What happens?\n",
    "\n",
    "---"
   ]
  },
  {
   "cell_type": "code",
   "execution_count": 51,
   "metadata": {
    "collapsed": true
   },
   "outputs": [],
   "source": [
    "batch_size = 128\n",
    "num_hidden_nodes = 1024\n",
    "\n",
    "graph = tf.Graph()\n",
    "with graph.as_default():\n",
    "    # Input\n",
    "    tf_train_dataset = tf.placeholder(tf.float32, shape=\n",
    "                                     (batch_size, image_size*image_size))\n",
    "    tf_train_labels = tf.placeholder(tf.float32, shape=\n",
    "                                    (batch_size, num_labels))\n",
    "    tf_valid_dataset = tf.constant(valid_dataset)\n",
    "    tf_test_dataset = tf.constant(test_dataset)\n",
    "    \n",
    "    # Weights\n",
    "    weights1 = tf.Variable(tf.truncated_normal([image_size * image_size, num_hidden_nodes]))\n",
    "    biases1 = tf.Variable(tf.zeros([num_hidden_nodes]))\n",
    "    weights2 = tf.Variable(tf.truncated_normal([num_hidden_nodes, num_labels]))\n",
    "    biases2 = tf.Variable(tf.zeros([num_labels]))\n",
    "    beta1 = tf.placeholder(tf.float32)\n",
    "    beta2 = tf.placeholder(tf.float32)\n",
    "    \n",
    "    # Training Computation\n",
    "    lay1_train = tf.nn.relu(tf.matmul(tf_train_dataset, weights1) + biases1)\n",
    "    logits = tf.matmul(lay1_train, weights2) + biases2\n",
    "    loss = tf.reduce_mean(tf.nn.softmax_cross_entropy_with_logits(logits=logits, labels=tf_train_labels))\\\n",
    "            + beta1 * tf.nn.l2_loss(weights1) + beta2 * tf.nn.l2_loss(weights2)\n",
    "    \n",
    "    # Optimizer\n",
    "    optimizer = tf.train.GradientDescentOptimizer(0.5).minimize(loss)\n",
    "    \n",
    "    # Predictions\n",
    "    train_prediction = tf.nn.softmax(logits)\n",
    "    lay1_valid = tf.nn.relu(tf.matmul(tf_valid_dataset, weights1) + biases1)\n",
    "    valid_prediction = tf.nn.softmax(tf.matmul(lay1_valid, weights2) + biases2)\n",
    "    lay1_test = tf.nn.relu(tf.matmul(tf_test_dataset, weights1) + biases1)\n",
    "    test_prediction = tf.nn.softmax(tf.matmul(lay1_test, weights2) + biases2)"
   ]
  },
  {
   "cell_type": "code",
   "execution_count": 52,
   "metadata": {},
   "outputs": [
    {
     "name": "stdout",
     "output_type": "stream",
     "text": [
      "Initialised\n",
      "Minibatch loss at step 0: 457.071503\n",
      "Minibatch accuracy: 6.2% \n",
      "Validation accuracy: 28.6% \n",
      "Minibatch loss at step 500: 48.271866\n",
      "Minibatch accuracy: 100.0% \n",
      "Validation accuracy: 57.1% \n",
      "Minibatch loss at step 1000: 43.682327\n",
      "Minibatch accuracy: 100.0% \n",
      "Validation accuracy: 57.1% \n",
      "Minibatch loss at step 1500: 39.801270\n",
      "Minibatch accuracy: 100.0% \n",
      "Validation accuracy: 57.1% \n",
      "Minibatch loss at step 2000: 36.433441\n",
      "Minibatch accuracy: 100.0% \n",
      "Validation accuracy: 57.1% \n",
      "Minibatch loss at step 2500: 33.454212\n",
      "Minibatch accuracy: 100.0% \n",
      "Validation accuracy: 57.2% \n",
      "Minibatch loss at step 3000: 30.782091\n",
      "Minibatch accuracy: 100.0% \n",
      "Validation accuracy: 57.2% \n",
      "Test accuracy: 63.0%\n"
     ]
    }
   ],
   "source": [
    "num_steps = 3001\n",
    "num_batches = 3\n",
    "with tf.Session(graph=graph) as session:\n",
    "    tf.global_variables_initializer().run()\n",
    "    print('Initialised')\n",
    "    for step in range(num_steps):\n",
    "        offset = step%num_batches\n",
    "\n",
    "        batch_data = train_dataset[offset:offset+batch_size, :]\n",
    "        batch_labels = train_labels[offset:offset+batch_size, :]\n",
    "\n",
    "        feed_dict = {tf_train_dataset:batch_data, \\\n",
    "                     tf_train_labels:batch_labels, beta1 : regul, beta2 : 1e-3}\n",
    "        _, l, predictions = session.run([optimizer, loss, \\\n",
    "                                         train_prediction], feed_dict=feed_dict)\n",
    "        if step%500 == 0:\n",
    "            print(\"Minibatch loss at step %d: %f\" % (step, l))\n",
    "            print(\"Minibatch accuracy: %.1f%% \" % accuracy(predictions, batch_labels))\n",
    "            print(\"Validation accuracy: %.1f%% \" % accuracy(valid_prediction.eval(), valid_labels))\n",
    "    print(\"Test accuracy: %.1f%%\" % accuracy(test_prediction.eval(), test_labels))\n",
    "\n",
    "#     accuracy_val.append(accuracy(test_prediction.eval(), test_labels))"
   ]
  },
  {
   "cell_type": "markdown",
   "metadata": {
    "colab_type": "text",
    "id": "ww3SCBUdlkRc"
   },
   "source": [
    "---\n",
    "Problem 3\n",
    "---------\n",
    "Introduce Dropout on the hidden layer of the neural network. Remember: Dropout should only be introduced during training, not evaluation, otherwise your evaluation results would be stochastic as well. TensorFlow provides `nn.dropout()` for that, but you have to make sure it's only inserted during training.\n",
    "\n",
    "What happens to our extreme overfitting case?\n",
    "\n",
    "---"
   ]
  },
  {
   "cell_type": "code",
   "execution_count": 53,
   "metadata": {},
   "outputs": [],
   "source": [
    "batch_size = 128\n",
    "num_hidden_nodes = 1024\n",
    "\n",
    "graph = tf.Graph()\n",
    "with graph.as_default():\n",
    "    # Input\n",
    "    tf_train_dataset = tf.placeholder(tf.float32, shape=\n",
    "    (batch_size, image_size * image_size))\n",
    "    tf_train_labels = tf.placeholder(tf.float32, shape=\n",
    "    (batch_size, num_labels))\n",
    "    tf_valid_dataset = tf.constant(valid_dataset)\n",
    "    tf_test_dataset = tf.constant(test_dataset)\n",
    "\n",
    "    # Weights\n",
    "    weights1 = tf.Variable(tf.truncated_normal([image_size * image_size, num_hidden_nodes]))\n",
    "    biases1 = tf.Variable(tf.zeros([num_hidden_nodes]))\n",
    "    weights2 = tf.Variable(tf.truncated_normal([num_hidden_nodes, num_labels]))\n",
    "    biases2 = tf.Variable(tf.zeros([num_labels]))\n",
    "    beta1 = tf.placeholder(tf.float32)\n",
    "    beta2 = tf.placeholder(tf.float32)\n",
    "\n",
    "    # Training Computation\n",
    "    lay1_train = tf.nn.relu(tf.matmul(tf_train_dataset, weights1) + biases1)\n",
    "    drop1 = tf.nn.dropout(lay1_train, 0.5)\n",
    "    logits = tf.matmul(drop1, weights2) + biases2\n",
    "    loss = tf.reduce_mean(tf.nn.softmax_cross_entropy_with_logits(logits=logits, labels=tf_train_labels)) \\\n",
    "           + beta1 * tf.nn.l2_loss(weights1) + beta2 * tf.nn.l2_loss(weights2)\n",
    "\n",
    "    # Optimizer\n",
    "    optimizer = tf.train.GradientDescentOptimizer(0.5).minimize(loss)\n",
    "\n",
    "    # Predictions\n",
    "    train_prediction = tf.nn.softmax(logits)\n",
    "    lay1_valid = tf.nn.relu(tf.matmul(tf_valid_dataset, weights1) + biases1)\n",
    "    valid_prediction = tf.nn.softmax(tf.matmul(lay1_valid, weights2) + biases2)\n",
    "    lay1_test = tf.nn.relu(tf.matmul(tf_test_dataset, weights1) + biases1)\n",
    "    test_prediction = tf.nn.softmax(tf.matmul(lay1_test, weights2) + biases2)\n"
   ]
  },
  {
   "cell_type": "code",
   "execution_count": 54,
   "metadata": {},
   "outputs": [
    {
     "name": "stdout",
     "output_type": "stream",
     "text": [
      "Initialised\n",
      "Minibatch loss at step 0: 565.550659\n",
      "Minibatch accuracy: 7.8% \n",
      "Validation accuracy: 26.8% \n",
      "Minibatch loss at step 500: 82.385880\n",
      "Minibatch accuracy: 75.0% \n",
      "Validation accuracy: 80.3% \n",
      "Minibatch loss at step 1000: 63.704960\n",
      "Minibatch accuracy: 71.1% \n",
      "Validation accuracy: 79.8% \n",
      "Minibatch loss at step 1500: 47.734917\n",
      "Minibatch accuracy: 82.8% \n",
      "Validation accuracy: 79.9% \n",
      "Minibatch loss at step 2000: 39.537540\n",
      "Minibatch accuracy: 81.2% \n",
      "Validation accuracy: 80.5% \n",
      "Minibatch loss at step 2500: 35.459290\n",
      "Minibatch accuracy: 73.4% \n",
      "Validation accuracy: 80.5% \n",
      "Minibatch loss at step 3000: 30.795641\n",
      "Minibatch accuracy: 78.9% \n",
      "Validation accuracy: 80.5% \n",
      "Test accuracy: 88.6%\n"
     ]
    }
   ],
   "source": [
    "num_steps = 3001\n",
    "\n",
    "regul_val = [pow(10, i) for i in np.arange(-4, -2, 0.1)]\n",
    "accuracy_val = []\n",
    "with tf.Session(graph=graph) as session:\n",
    "    tf.global_variables_initializer().run()\n",
    "    print('Initialised')\n",
    "    for step in range(num_steps):\n",
    "        offset = (step * batch_size) % \\\n",
    "                (train_labels.shape[0] - batch_size)\n",
    "\n",
    "        batch_data = train_dataset[offset:offset+batch_size, :]\n",
    "        batch_labels = train_labels[offset:offset+batch_size, :]\n",
    "\n",
    "        feed_dict = {tf_train_dataset:batch_data, \\\n",
    "                     tf_train_labels:batch_labels, beta1 : regul, beta2 : regul}\n",
    "        _, l, predictions = session.run([optimizer, loss, \\\n",
    "                                         train_prediction], feed_dict=feed_dict)\n",
    "        if step%500 == 0:\n",
    "            print(\"Minibatch loss at step %d: %f\" % (step, l))\n",
    "            print(\"Minibatch accuracy: %.1f%% \" % accuracy(predictions, batch_labels))\n",
    "            print(\"Validation accuracy: %.1f%% \" % accuracy(valid_prediction.eval(), valid_labels))\n",
    "\n",
    "    print(\"Test accuracy: %.1f%%\" % accuracy(test_prediction.eval(), test_labels))\n"
   ]
  },
  {
   "cell_type": "markdown",
   "metadata": {
    "colab_type": "text",
    "id": "-b1hTz3VWZjw"
   },
   "source": [
    "---\n",
    "Problem 4\n",
    "---------\n",
    "\n",
    "Try to get the best performance you can using a multi-layer model! The best reported test accuracy using a deep network is [97.1%](http://yaroslavvb.blogspot.com/2011/09/notmnist-dataset.html?showComment=1391023266211#c8758720086795711595).\n",
    "\n",
    "One avenue you can explore is to add multiple layers.\n",
    "\n",
    "Another one is to use learning rate decay:\n",
    "\n",
    "    global_step = tf.Variable(0)  # count the number of steps taken.\n",
    "    learning_rate = tf.train.exponential_decay(0.5, global_step, ...)\n",
    "    optimizer = tf.train.GradientDescentOptimizer(learning_rate).minimize(loss, global_step=global_step)\n",
    " \n",
    " ---\n"
   ]
  },
  {
   "cell_type": "code",
   "execution_count": 97,
   "metadata": {},
   "outputs": [
    {
     "name": "stdout",
     "output_type": "stream",
     "text": [
      "(128, 1024)\n",
      "(128, 256)\n"
     ]
    }
   ],
   "source": [
    "batch_size = 128\n",
    "num_hidden_nodes = [1024, 256, 128]\n",
    "input_size = [image_size * image_size] + num_hidden_nodes\n",
    "num_layers = len(num_hidden_nodes)\n",
    "\n",
    "graph = tf.Graph()\n",
    "with graph.as_default():\n",
    "    # Input\n",
    "    tf_train_dataset = tf.placeholder(tf.float32, shape=\n",
    "    (batch_size, image_size * image_size))\n",
    "    tf_train_labels = tf.placeholder(tf.float32, shape=\n",
    "    (batch_size, num_labels))\n",
    "    tf_valid_dataset = tf.constant(valid_dataset)\n",
    "    tf_test_dataset = tf.constant(test_dataset)\n",
    "    global_step = tf.Variable(0)\n",
    "\n",
    "    # Weights\n",
    "    weights1 = []\n",
    "    biases1 = []\n",
    "    beta1 = []\n",
    "\n",
    "    for i in range(num_layers):\n",
    "        weights1.append(tf.Variable(tf.truncated_normal([input_size[i], num_hidden_nodes[i]], \\\n",
    "                                                        stddev=np.sqrt(2.0 / (input_size[i])))))\n",
    "        biases1.append(tf.Variable(tf.zeros([num_hidden_nodes[i]])))\n",
    "        beta1.append(1e-3)\n",
    "    biases2 = tf.Variable(tf.zeros([num_labels]))\n",
    "    weights2 = tf.Variable(tf.truncated_normal([input_size[-1], num_labels], \\\n",
    "                                               stddev=np.sqrt(2.0 / input_size[-1])))\n",
    "    beta2 = 1e-3\n",
    "\n",
    "    # Training Computation\n",
    "    lay1_train = tf.nn.relu(tf.matmul(tf_train_dataset, weights1[0]) + biases1[0])\n",
    "    drop1 = tf.nn.dropout(lay1_train, 0.5)\n",
    "    for i in range(1, num_layers):\n",
    "        print(lay1_train.shape)\n",
    "        lay1_train = tf.nn.relu(tf.matmul(drop1, weights1[i]) + biases1[i])\n",
    "        drop1 = tf.nn.dropout(lay1_train, 0.5)\n",
    "    logits = tf.matmul(drop1, weights2) + biases2\n",
    "    loss = tf.reduce_mean(tf.nn.softmax_cross_entropy_with_logits(logits=logits, labels=tf_train_labels)) \\\n",
    "           + beta2 * tf.nn.l2_loss(weights2)\n",
    "    for i in range(num_layers):\n",
    "        loss += beta1[i] * tf.nn.l2_loss(weights1[i])\n",
    "\n",
    "        # Optimizer\n",
    "    learning_rate = tf.train.exponential_decay(0.5, global_step, 1000, 0.65, staircase=True)\n",
    "    optimizer = tf.train.GradientDescentOptimizer(learning_rate).minimize(loss, global_step=global_step)\n",
    "\n",
    "    # Predictions\n",
    "    train_prediction = tf.nn.softmax(logits)\n",
    "\n",
    "    lay1_valid = tf.nn.relu(tf.matmul(tf_valid_dataset, weights1[0]) + biases1[0])\n",
    "    for i in range(1, num_layers):\n",
    "        lay1_valid = tf.nn.relu(tf.matmul(lay1_valid, weights1[i]) + biases1[i])\n",
    "    logits_valid = tf.matmul(lay1_valid, weights2) + biases2\n",
    "    valid_prediction = tf.nn.softmax(logits_valid)\n",
    "\n",
    "    lay1_test = tf.nn.relu(tf.matmul(tf_test_dataset, weights1[0]) + biases1[0])\n",
    "    for i in range(1, num_layers):\n",
    "        lay1_test = tf.nn.relu(tf.matmul(lay1_test, weights1[i]) + biases1[i])\n",
    "    logits_test = tf.matmul(lay1_test, weights2) + biases2\n",
    "    test_prediction = tf.nn.softmax(logits_test)\n"
   ]
  },
  {
   "cell_type": "code",
   "execution_count": 98,
   "metadata": {},
   "outputs": [
    {
     "name": "stdout",
     "output_type": "stream",
     "text": [
      "Initialised\n",
      "Minibatch loss at step 0: 3.871848\n",
      "Minibatch accuracy: 10.9% \n",
      "Validation accuracy: 18.4% \n",
      "Minibatch loss at step 500: 1.205388\n",
      "Minibatch accuracy: 85.9% \n",
      "Validation accuracy: 83.8% \n",
      "Minibatch loss at step 1000: 1.051275\n",
      "Minibatch accuracy: 85.2% \n",
      "Validation accuracy: 84.2% \n",
      "Minibatch loss at step 1500: 0.844605\n",
      "Minibatch accuracy: 85.2% \n",
      "Validation accuracy: 85.5% \n",
      "Minibatch loss at step 2000: 0.706294\n",
      "Minibatch accuracy: 88.3% \n",
      "Validation accuracy: 86.3% \n",
      "Minibatch loss at step 2500: 0.737942\n",
      "Minibatch accuracy: 85.9% \n",
      "Validation accuracy: 86.9% \n",
      "Minibatch loss at step 3000: 0.748825\n",
      "Minibatch accuracy: 85.2% \n",
      "Validation accuracy: 87.0% \n",
      "Minibatch loss at step 3500: 0.767259\n",
      "Minibatch accuracy: 85.2% \n",
      "Validation accuracy: 87.7% \n",
      "Minibatch loss at step 4000: 0.636193\n",
      "Minibatch accuracy: 89.8% \n",
      "Validation accuracy: 87.6% \n",
      "Minibatch loss at step 4500: 0.660385\n",
      "Minibatch accuracy: 89.1% \n",
      "Validation accuracy: 87.9% \n",
      "Minibatch loss at step 5000: 0.609464\n",
      "Minibatch accuracy: 88.3% \n",
      "Validation accuracy: 88.2% \n",
      "Minibatch loss at step 5500: 0.682371\n",
      "Minibatch accuracy: 87.5% \n",
      "Validation accuracy: 88.3% \n",
      "Minibatch loss at step 6000: 0.636231\n",
      "Minibatch accuracy: 84.4% \n",
      "Validation accuracy: 88.7% \n",
      "Minibatch loss at step 6500: 0.478164\n",
      "Minibatch accuracy: 89.8% \n",
      "Validation accuracy: 88.6% \n",
      "Minibatch loss at step 7000: 0.622200\n",
      "Minibatch accuracy: 85.2% \n",
      "Validation accuracy: 88.9% \n",
      "Minibatch loss at step 7500: 0.655744\n",
      "Minibatch accuracy: 84.4% \n",
      "Validation accuracy: 88.9% \n",
      "Minibatch loss at step 8000: 0.779443\n",
      "Minibatch accuracy: 80.5% \n",
      "Validation accuracy: 89.0% \n",
      "Minibatch loss at step 8500: 0.506388\n",
      "Minibatch accuracy: 89.8% \n",
      "Validation accuracy: 89.0% \n",
      "Minibatch loss at step 9000: 0.589692\n",
      "Minibatch accuracy: 88.3% \n",
      "Validation accuracy: 89.0% \n",
      "Minibatch loss at step 9500: 0.610356\n",
      "Minibatch accuracy: 86.7% \n",
      "Validation accuracy: 89.0% \n",
      "Minibatch loss at step 10000: 0.561710\n",
      "Minibatch accuracy: 86.7% \n",
      "Validation accuracy: 89.0% \n",
      "Minibatch loss at step 10500: 0.535919\n",
      "Minibatch accuracy: 89.1% \n",
      "Validation accuracy: 89.1% \n",
      "Minibatch loss at step 11000: 0.512945\n",
      "Minibatch accuracy: 91.4% \n",
      "Validation accuracy: 89.1% \n",
      "Minibatch loss at step 11500: 0.591603\n",
      "Minibatch accuracy: 87.5% \n",
      "Validation accuracy: 89.1% \n",
      "Minibatch loss at step 12000: 0.604521\n",
      "Minibatch accuracy: 85.2% \n",
      "Validation accuracy: 89.1% \n",
      "Minibatch loss at step 12500: 0.496303\n",
      "Minibatch accuracy: 89.8% \n",
      "Validation accuracy: 89.2% \n",
      "Minibatch loss at step 13000: 0.592863\n",
      "Minibatch accuracy: 86.7% \n",
      "Validation accuracy: 89.2% \n",
      "Minibatch loss at step 13500: 0.610308\n",
      "Minibatch accuracy: 85.9% \n",
      "Validation accuracy: 89.2% \n",
      "Minibatch loss at step 14000: 0.580676\n",
      "Minibatch accuracy: 85.9% \n",
      "Validation accuracy: 89.2% \n",
      "Minibatch loss at step 14500: 0.643327\n",
      "Minibatch accuracy: 85.2% \n",
      "Validation accuracy: 89.2% \n",
      "Minibatch loss at step 15000: 0.582042\n",
      "Minibatch accuracy: 88.3% \n",
      "Validation accuracy: 89.2% \n",
      "Minibatch loss at step 15500: 0.630062\n",
      "Minibatch accuracy: 84.4% \n",
      "Validation accuracy: 89.2% \n",
      "Minibatch loss at step 16000: 0.442700\n",
      "Minibatch accuracy: 91.4% \n",
      "Validation accuracy: 89.3% \n",
      "Minibatch loss at step 16500: 0.527453\n",
      "Minibatch accuracy: 89.8% \n",
      "Validation accuracy: 89.2% \n",
      "Minibatch loss at step 17000: 0.473067\n",
      "Minibatch accuracy: 93.0% \n",
      "Validation accuracy: 89.2% \n",
      "Minibatch loss at step 17500: 0.338154\n",
      "Minibatch accuracy: 94.5% \n",
      "Validation accuracy: 89.2% \n",
      "Minibatch loss at step 18000: 0.439503\n",
      "Minibatch accuracy: 93.8% \n",
      "Validation accuracy: 89.2% \n",
      "Test accuracy: 95.0%\n"
     ]
    }
   ],
   "source": [
    "num_steps = 18001\n",
    "\n",
    "accuracy_val = []\n",
    "with tf.Session(graph=graph) as session:\n",
    "    tf.global_variables_initializer().run()\n",
    "    print('Initialised')\n",
    "    for step in range(num_steps):\n",
    "        offset = (step * batch_size) % \\\n",
    "                 (train_labels.shape[0] - batch_size)\n",
    "\n",
    "        batch_data = train_dataset[offset:offset + batch_size, :]\n",
    "        batch_labels = train_labels[offset:offset + batch_size, :]\n",
    "\n",
    "        feed_dict = {tf_train_dataset: batch_data, \\\n",
    "                     tf_train_labels: batch_labels}\n",
    "        _, l, predictions = session.run([optimizer, loss, \\\n",
    "                                         train_prediction], feed_dict=feed_dict)\n",
    "        if step % 500 == 0:\n",
    "            print(\"Minibatch loss at step %d: %f\" % (step, l))\n",
    "            print(\"Minibatch accuracy: %.1f%% \" % accuracy(predictions, batch_labels))\n",
    "            print(\"Validation accuracy: %.1f%% \" % accuracy(valid_prediction.eval(), valid_labels))\n",
    "\n",
    "    print(\"Test accuracy: %.1f%%\" % accuracy(test_prediction.eval(), test_labels))\n"
   ]
  },
  {
   "cell_type": "code",
   "execution_count": null,
   "metadata": {
    "collapsed": true
   },
   "outputs": [],
   "source": []
  }
 ],
 "metadata": {
  "colab": {
   "default_view": {},
   "name": "3_regularization.ipynb",
   "provenance": [],
   "version": "0.3.2",
   "views": {}
  },
  "kernelspec": {
   "display_name": "Python 3",
   "language": "python",
   "name": "python3"
  },
  "language_info": {
   "codemirror_mode": {
    "name": "ipython",
    "version": 3
   },
   "file_extension": ".py",
   "mimetype": "text/x-python",
   "name": "python",
   "nbconvert_exporter": "python",
   "pygments_lexer": "ipython3",
   "version": "3.6.1"
  }
 },
 "nbformat": 4,
 "nbformat_minor": 1
}
